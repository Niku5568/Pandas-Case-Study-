{
 "cells": [
  {
   "cell_type": "markdown",
   "id": "63e7b72a-b835-4b95-aa66-bf8a48f4a1c6",
   "metadata": {},
   "source": [
    "# Case Study: Analysis of Health Data using NumPy in Python\n",
    "\n",
    "## Introduction\n",
    "Health datasets are crucial for various analyses such as identifying trends, predicting diseases, and improving healthcare services. This case study demonstrates how to use NumPy, a powerful numerical computing library in Python, to analyze a health dataset. We'll perform various operations such as data cleaning, statistical analysis, and visualization.\n",
    "## Dataset Description\n",
    "For this case study, we'll use a hypothetical health dataset containing information about patients, including their age, height, weight, blood pressure, cholesterol level, and a binary indicator for diabetes presence."
   ]
  },
  {
   "cell_type": "code",
   "execution_count": 2,
   "id": "4c17c614-6f79-4a5f-81a7-6f0950b06864",
   "metadata": {},
   "outputs": [
    {
     "name": "stdout",
     "output_type": "stream",
     "text": [
      "[[ 25 175  70 120  80 190   0]\n",
      " [ 30 160  60 130  85 210   0]\n",
      " [ 45 170  80 140  90 250   1]\n",
      " [ 50 180  90 150  95 230   1]\n",
      " [ 35 165  65 125  82 200   0]\n",
      " [ 60 155  75 160 100 260   0]\n",
      " [ 40 167  70 135  88 220   1]\n",
      " [ 55 172  85 145  92 240   1]\n",
      " [ 50 168  68 155  94 235   1]\n",
      " [ 28 177  72 128  84 205   0]]\n"
     ]
    }
   ],
   "source": [
    "import numpy as np\n",
    "# Sample data: [Age, Height (cm), Weight (kg), Systolic BP, Diastolic BP, Cholesterol (mg/dL), Diabetes (1/0)]\n",
    "# [\"age\", \"height\",\"weight\",\"sBP\",\"dBP\",\"cholestorl\",\"diabetes\" ]\n",
    "\n",
    "data = np.array([\n",
    "   # [a,  h,   w,  sbp, dbp, c, d ]\n",
    "    [25, 175, 70, 120, 80, 190, 0],\n",
    "    [30, 160, 60, 130, 85, 210, 0],\n",
    "    [45, 170, 80, 140, 90, 250, 1],\n",
    "    [50, 180, 90, 150, 95, 230, 1],\n",
    "    [35, 165, 65, 125, 82, 200, 0],\n",
    "    [60, 155, 75, 160, 100, 260, 0],\n",
    "    [40, 167, 70, 135, 88, 220, 1],\n",
    "    [55, 172, 85, 145, 92, 240, 1],\n",
    "    [50, 168, 68, 155, 94, 235, 1],\n",
    "    [28, 177, 72, 128, 84, 205, 0]\n",
    "])\n",
    "print(data)"
   ]
  },
  {
   "cell_type": "markdown",
   "id": "c3369305-4e92-4def-b44a-d86a1ebd156d",
   "metadata": {},
   "source": [
    "## Analysis Questions\n",
    "\n",
    "1. What is the mean age of the patients in the dataset?\n",
    "2. What is the median height of the patients in the dataset?\n",
    "3. Calculate the standard deviation of the patients' weights.\n",
    "4. What is the correlation coefficient between age and cholesterol levels?\n",
    "5. How many patients have diabetes in the dataset?\n",
    "6. What is the average systolic blood pressure of patients without diabetes?\n",
    "7. What is the highest cholesterol level recorded in the dataset?\n",
    "8. Determine the range of diastolic blood pressure values.\n",
    "9. How does the average cholesterol level of patients with diabetes compare to those without diabetes?\n",
    "10. What is the distribution of ages among the patients?"
   ]
  },
  {
   "cell_type": "code",
   "execution_count": 3,
   "id": "6bd0006c-46ba-49ef-b9f2-57f75d9d5b1f",
   "metadata": {},
   "outputs": [
    {
     "name": "stdout",
     "output_type": "stream",
     "text": [
      "mean age of the patients in the dataset is:  41.8\n"
     ]
    },
    {
     "data": {
      "text/plain": [
       "41.8"
      ]
     },
     "execution_count": 3,
     "metadata": {},
     "output_type": "execute_result"
    }
   ],
   "source": [
    "# print(data[::,:1])\n",
    "print(\"mean age of the patients in the dataset is: \",data[::,:1].mean())\n",
    "np.mean(data[::,:1])"
   ]
  },
  {
   "cell_type": "code",
   "execution_count": 4,
   "id": "dbe4cd16-f0df-4f96-8ddc-bcf4336cfce2",
   "metadata": {},
   "outputs": [
    {
     "name": "stdout",
     "output_type": "stream",
     "text": [
      "median height of the patients in the dataset is :  169.0\n"
     ]
    }
   ],
   "source": [
    "# print(data[::,1:2])\n",
    "print(\"median height of the patients in the dataset is : \",np.median(data[::,1:2]))"
   ]
  },
  {
   "cell_type": "code",
   "execution_count": 5,
   "id": "8fade43d-fab1-4f67-8ada-1b99b4eed0de",
   "metadata": {},
   "outputs": [
    {
     "name": "stdout",
     "output_type": "stream",
     "text": [
      "standard divisian of patient weight: 8.72066511224918\n"
     ]
    }
   ],
   "source": [
    "# print(data[::,2:3])\n",
    "print(\"standard divisian of patient weight:\",np.std(data[::,2:3]))"
   ]
  },
  {
   "cell_type": "code",
   "execution_count": 6,
   "id": "5cc2ed3c-0198-4f45-b527-a2edf54fd0d4",
   "metadata": {},
   "outputs": [
    {
     "name": "stdout",
     "output_type": "stream",
     "text": [
      "correlation coefficient between age and cholesterol levels is:  0.91\n"
     ]
    }
   ],
   "source": [
    "# 4. What is the correlation coefficient between age and cholesterol levels?\n",
    "\n",
    "age=data[:,0]\n",
    "chol=data[:,5]\n",
    "c=np.corrcoef(age,chol)[0,1]\n",
    "print(\"correlation coefficient between age and cholesterol levels is: \",round(c,2))"
   ]
  },
  {
   "cell_type": "code",
   "execution_count": 7,
   "id": "024de1d9-9e7d-42a9-b7f5-e601f879d13d",
   "metadata": {},
   "outputs": [
    {
     "name": "stdout",
     "output_type": "stream",
     "text": [
      "[[ 25 175  70 120  80 190   0]\n",
      " [ 30 160  60 130  85 210   0]\n",
      " [ 45 170  80 140  90 250   1]\n",
      " [ 50 180  90 150  95 230   1]\n",
      " [ 35 165  65 125  82 200   0]\n",
      " [ 60 155  75 160 100 260   0]\n",
      " [ 40 167  70 135  88 220   1]\n",
      " [ 55 172  85 145  92 240   1]\n",
      " [ 50 168  68 155  94 235   1]\n",
      " [ 28 177  72 128  84 205   0]]\n",
      "[0 0 1 1 0 0 1 1 1 0]\n",
      "total diabtic patient is:  5\n"
     ]
    }
   ],
   "source": [
    "# 5 How many patients have diabetes in the dataset?\n",
    "print(data)\n",
    "print(data[::,-1])\n",
    "count=0\n",
    "for i in data[::,-1]:\n",
    "    if i == 1:\n",
    "        count+=1\n",
    "print(\"total diabtic patient is: \",count)"
   ]
  },
  {
   "cell_type": "code",
   "execution_count": 8,
   "id": "a9faa683-92bd-40ce-a452-8f76f9203f2f",
   "metadata": {},
   "outputs": [
    {
     "name": "stdout",
     "output_type": "stream",
     "text": [
      "[0 0 0 0 0]\n",
      "[1 1 1 1 1]\n",
      "Total diabtic paitent is: 5\n",
      "Total non diabtic paitent is: 5\n"
     ]
    }
   ],
   "source": [
    "b=data[data[:,6]==0]\n",
    "c=data[data[:,6]==1]\n",
    "print(b[:,6])\n",
    "print(c[:,6])\n",
    "print(\"Total diabtic paitent is:\",len(b[:,6]))\n",
    "print(\"Total non diabtic paitent is:\",len(c[:,6]))"
   ]
  },
  {
   "cell_type": "code",
   "execution_count": 9,
   "id": "1b169827-ec0b-48a8-97d8-8d1f0bd59b43",
   "metadata": {},
   "outputs": [
    {
     "name": "stdout",
     "output_type": "stream",
     "text": [
      "[[ 80   0]\n",
      " [ 85   0]\n",
      " [ 90   1]\n",
      " [ 95   1]\n",
      " [ 82   0]\n",
      " [100   0]\n",
      " [ 88   1]\n",
      " [ 92   1]\n",
      " [ 94   1]\n",
      " [ 84   0]]\n",
      "total patient without diabtic is:  5\n"
     ]
    }
   ],
   "source": [
    "# 6. What is the average systolic blood pressure of patients without diabetes?\n",
    "print(data[::,4::2])\n",
    "count=0\n",
    "for i in data[::,-1]:\n",
    "    if i == 0:\n",
    "        count+=1\n",
    "print(\"total patient without diabtic is: \",count) \n"
   ]
  },
  {
   "cell_type": "code",
   "execution_count": 10,
   "id": "cce573b4-3b4c-4be9-8508-227d31f0b051",
   "metadata": {},
   "outputs": [
    {
     "name": "stdout",
     "output_type": "stream",
     "text": [
      "total non diabtic patients is  5\n",
      "[[ 25 175  70 120  80 190   0]\n",
      " [ 30 160  60 130  85 210   0]\n",
      " [ 35 165  65 125  82 200   0]\n",
      " [ 60 155  75 160 100 260   0]\n",
      " [ 28 177  72 128  84 205   0]]\n",
      "average systolic blood pressure of patients without diabetes is:  132.6\n"
     ]
    }
   ],
   "source": [
    "ch=data[data[:,6]==0]\n",
    "print(\"total non diabtic patients is \",len(ch))\n",
    "print(ch)\n",
    "print(\"average systolic blood pressure of patients without diabetes is: \",ch[:,3].mean())"
   ]
  },
  {
   "cell_type": "code",
   "execution_count": 11,
   "id": "e1065e8e-5314-44ad-bf5f-492063ba6b2a",
   "metadata": {},
   "outputs": [
    {
     "name": "stdout",
     "output_type": "stream",
     "text": [
      "Highest Cholestorl in dataset is:  260\n"
     ]
    }
   ],
   "source": [
    "# 7. What is the highest cholesterol level recorded in the dataset?\n",
    "# print(data)\n",
    "print(\"Highest Cholestorl in dataset is: \",data[::,-2:-1].max())"
   ]
  },
  {
   "cell_type": "code",
   "execution_count": 12,
   "id": "13bc8d8c-6ca0-45f2-9796-169d6f233328",
   "metadata": {},
   "outputs": [
    {
     "name": "stdout",
     "output_type": "stream",
     "text": [
      "[[ 80]\n",
      " [ 85]\n",
      " [ 90]\n",
      " [ 95]\n",
      " [ 82]\n",
      " [100]\n",
      " [ 88]\n",
      " [ 92]\n",
      " [ 94]\n",
      " [ 84]]\n",
      "range of diastolic blood pressure is : 20\n"
     ]
    }
   ],
   "source": [
    "# 8. Determine the range of diastolic blood pressure values.\n",
    "# print(data)\n",
    "# print(data[::,-3:-2])\n",
    "print(data[:,4:5])\n",
    "print(\"range of diastolic blood pressure is :\",data[:,4:5].max()-data[:,4:5].min()) "
   ]
  },
  {
   "cell_type": "code",
   "execution_count": 13,
   "id": "d9d236b5-1960-4bbc-8db8-d15012d43201",
   "metadata": {},
   "outputs": [
    {
     "name": "stdout",
     "output_type": "stream",
     "text": [
      "\n",
      "[[ 25 175  70 120  80 190   0]\n",
      " [ 30 160  60 130  85 210   0]\n",
      " [ 35 165  65 125  82 200   0]\n",
      " [ 60 155  75 160 100 260   0]\n",
      " [ 28 177  72 128  84 205   0]]\n",
      "\n",
      "average cholestrol level of paitent is:  213.0\n"
     ]
    }
   ],
   "source": [
    "# 9. How does the average cholesterol level of patients with diabetes compare to those without diabetes?\n",
    "print()\n",
    "ch=data[data[:,6]==0]\n",
    "print(ch)\n",
    "print()\n",
    "print(\"average cholestrol level of paitent is: \",ch[:,5].mean())"
   ]
  },
  {
   "cell_type": "code",
   "execution_count": 14,
   "id": "6808855f-d885-4d42-9ee6-1d62514039e3",
   "metadata": {},
   "outputs": [
    {
     "name": "stdout",
     "output_type": "stream",
     "text": [
      "distribution of age is: \n",
      "Minimum Age: 25\n",
      "Maximum Age: 60\n",
      "Average of Age: 41.8\n",
      "Median age is:  42.5\n"
     ]
    }
   ],
   "source": [
    "# 10. What is the distribution of ages among the patients?\n",
    "# print(data[:,0:1])\n",
    "\n",
    "print(\"distribution of age is: \")\n",
    "print(\"Minimum Age:\",data[:,0:1].min())\n",
    "print(\"Maximum Age:\",data[:,0:1].max())\n",
    "print(\"Average of Age:\",data[:,0:1].mean())\n",
    "print(\"Median age is: \",np.median(data[:,0:1]))"
   ]
  },
  {
   "cell_type": "code",
   "execution_count": 15,
   "id": "ffa5751b-9187-4645-ba87-3abf709c43c3",
   "metadata": {},
   "outputs": [
    {
     "name": "stdout",
     "output_type": "stream",
     "text": [
      "(array([3, 1, 2, 2, 2], dtype=int64), array([25., 32., 39., 46., 53., 60.]))\n"
     ]
    },
    {
     "data": {
      "text/plain": [
       "(array([[5., 0., 0., 0., 0.],\n",
       "        [0., 0., 2., 2., 2.]]),\n",
       " array([ 1. , 12.8, 24.6, 36.4, 48.2, 60. ]),\n",
       " <a list of 2 BarContainer objects>)"
      ]
     },
     "execution_count": 15,
     "metadata": {},
     "output_type": "execute_result"
    },
    {
     "data": {
      "image/png": "[encoded data removed]",
      "text/plain": [
       "<Figure size 640x480 with 1 Axes>"
      ]
     },
     "metadata": {},
     "output_type": "display_data"
    }
   ],
   "source": [
    "import numpy as np\n",
    "import matplotlib.pyplot as plt\n",
    "m=np.histogram(data[:,0:1],bins=\"auto\")\n",
    "print(m)\n",
    "plt.show(m)\n",
    "plt.hist(m , bins=\"auto\")"
   ]
  },
  {
   "cell_type": "code",
   "execution_count": null,
   "id": "f10d3c0a-b5fd-444f-8036-8484fad29df4",
   "metadata": {},
   "outputs": [],
   "source": []
  }
 ],
 "metadata": {
  "kernelspec": {
   "display_name": "Python 3 (ipykernel)",
   "language": "python",
   "name": "python3"
  },
  "language_info": {
   "codemirror_mode": {
    "name": "ipython",
    "version": 3
   },
   "file_extension": ".py",
   "mimetype": "text/x-python",
   "name": "python",
   "nbconvert_exporter": "python",
   "pygments_lexer": "ipython3",
   "version": "3.11.7"
  },
  "widgets": {
   "application/vnd.jupyter.widget-state+json": {
    "state": {},
    "version_major": 2,
    "version_minor": 0
   }
  }
 },
 "nbformat": 4,
 "nbformat_minor": 5
}
